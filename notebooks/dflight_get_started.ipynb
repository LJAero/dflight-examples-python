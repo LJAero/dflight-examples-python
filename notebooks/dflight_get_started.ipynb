{
 "cells": [
  {
   "cell_type": "markdown",
   "id": "bb77475a",
   "metadata": {},
   "source": [
    "## Get Started with DFlight API\n",
    "\n",
    "* Create and send HTTP requests to each of the DFlight API endpoints\n",
    "* Understand your results\n",
    "\n",
    "Please review DFlight documentation before getting started:\n",
    "* [Overview](https://ljaero.com/solutions/dflight/overview/)\n",
    "* [Developer Resources](https://ljaero.com/solutions/dflight/dev/)\n",
    "* [OpenAPI Specification](https://dflight-api.ljaero.com/)"
   ]
  },
  {
   "cell_type": "markdown",
   "id": "9f366639",
   "metadata": {},
   "source": [
    "## Requirements\n",
    "\n",
    "In order to execute all code in this notebook, the following packages must be installed in your environment:\n",
    "* [geojson](https://github.com/jazzband/geojson#installation)\n",
    "* [pyproj](https://pyproj4.github.io/pyproj/stable/installation.html)\n",
    "* [requests](https://requests.readthedocs.io/en/latest/user/install/#install)\n",
    "* [shapely](https://shapely.readthedocs.io/en/stable/index.html)"
   ]
  },
  {
   "cell_type": "code",
   "execution_count": null,
   "id": "577edc8f",
   "metadata": {},
   "outputs": [],
   "source": [
    "import geojson as gj\n",
    "import json\n",
    "import pyproj\n",
    "import requests\n",
    "import shapely.geometry as shpgeo"
   ]
  },
  {
   "cell_type": "markdown",
   "id": "cde6ee15",
   "metadata": {},
   "source": [
    "## Enter your API Key\n",
    "In order to make calls to DFlight API enpoints you need to include your API Key in the ```x-api-key``` header. Replace ```nnnn``` below with your key. If you do not already have a DFlight subscription, click [here](https://ljaero.com/solutions/dflight/subscribe/) for a free trial which will allow you to make 50 API calls."
   ]
  },
  {
   "cell_type": "code",
   "execution_count": null,
   "id": "8fd508c2",
   "metadata": {},
   "outputs": [],
   "source": [
    "mykey = 'nnnn'\n",
    "headers = {'x-api-key': mykey}"
   ]
  },
  {
   "cell_type": "markdown",
   "id": "869988ed",
   "metadata": {},
   "source": [
    "## Endpoint URLs\n",
    "\n",
    "All DFlight API endpoints are of the form\n",
    "\n",
    "**```https://{domain}/{coverage area}/{version}/{category}/{query type}```**\n",
    "\n",
    "where\n",
    "\n",
    "* domain = [dflight-api.ljaero.com](https://dflight-api.ljaero.com/)\n",
    "* coverage area = us\n",
    "* version = v1\n",
    "* category is one of: [aerodromes](https://ljaero.com/solutions/dflight/overview/#ep_aerodromes), [airspace](https://ljaero.com/solutions/dflight/overview/#ep_airspace), [obstacles](https://ljaero.com/solutions/dflight/overview/#ep_obstacles), [restrictions](https://ljaero.com/solutions/dflight/overview/#ep_tfr), [ssa](https://ljaero.com/solutions/dflight/overview/#ep_ssa), [uoa](https://ljaero.com/solutions/dflight/overview/#ep_uoa), [venues](https://ljaero.com/solutions/dflight/overview/#ep_venues), [wx-forecast](https://ljaero.com/solutions/dflight/overview/#ep_weather)\n",
    "* query type is one of: ```distance-query```, ```route-query```, ```polygon-query```\n"
   ]
  },
  {
   "cell_type": "code",
   "execution_count": null,
   "id": "bfe3fe3d",
   "metadata": {},
   "outputs": [],
   "source": [
    "# Helper method to get endpoint url for a given category and query type\n",
    "\n",
    "def get_url(cat: str, qtype: str) -> str:\n",
    "    cc = ['aerodromes', 'airspace', 'obstacles', 'restrictions', 'ssa', 'uoa', 'venues', 'wx-forecast']\n",
    "    qq = ['distance', 'route', 'polygon']\n",
    "    if cat in cc and qtype in qq:\n",
    "        return f'https://dflight-api.ljaero.com/us/v1/{cat}/{qtype}-query'    \n",
    "    return None"
   ]
  },
  {
   "cell_type": "markdown",
   "id": "78e2017c",
   "metadata": {},
   "source": [
    "## Composing the query request body\n",
    "\n",
    "DFlight API requests bodies must be valid json objects; the required properties will depend on the query type and category. The query type will dictate the property(ies) used to define your geographic area of interest, and the category will determine whether or not there are additional required properties.\n",
    "\n",
    "#### Distance queries\n",
    "> For ```/distance-query``` endpoints you define the area of interest with the following properties\n",
    ">* **latitude**: WGS84 latitude coordinate of your selected point, in decimal degrees\n",
    ">* **longitude**: WGS84 longitude coordinate of your selected point, in decimal degrees\n",
    ">* **distance**: radial distance in meters (max allowed value is 25000 m)\n",
    ">\n",
    "> Example:\n",
    ">\n",
    ">```\n",
    ">{\n",
    ">  \"longitude\": -89.419,\n",
    ">  \"latitude\": 43.0472,\n",
    ">  \"distance\": 5000\n",
    ">}\n",
    ">```\n",
    "\n",
    "#### Route queries\n",
    "> For ```/route-query``` endpoints you define the area of interest with a single property named **route**, which must be a valid [GeoJSON LineString](https://www.rfc-editor.org/rfc/rfc7946.html#appendix-A.2). The maximum allowed route length is 50 km.\n",
    ">\n",
    "> Example:\n",
    ">\n",
    ">```\n",
    ">{\n",
    ">  \"route\": {\n",
    ">    \"type\": \"LineString\", \n",
    ">    \"coordinates\": [[-89.61,43.76], [-89.65,43.76], [-89.70,43.75], [-89.71,43.74], [-89.79,43.74]]\n",
    ">   }\n",
    ">}\n",
    ">```\n",
    "\n",
    "#### Polygon queries\n",
    "> For ```/polygon-query``` endpoints you define the area of interest with a single property named **poly**, which must be a valid [GeoJSON Polygon](https://www.rfc-editor.org/rfc/rfc7946.html#appendix-A.3). The maximum allowed polygonal area is 1000 km<sup>2</sup>.\n",
    ">\n",
    "> Example:\n",
    ">\n",
    ">```\n",
    ">{\n",
    ">  \"poly\": {\n",
    ">    \"type\": \"Polygon\",\n",
    ">    \"coordinates\": [[[-81.425,28.333],[-81.450,28.199],[-81.133,28.176],[-81.125,28.349],[-81.425,28.333]]]\n",
    ">  }\n",
    ">}\n",
    ">```\n",
    "\n",
    "#### Basic Requests\n",
    "> We refer to requests which only require input of your area of interest as \"basic\". The categories which use basic requests are:\n",
    ">* aerodromes\n",
    ">* obstacles\n",
    ">* restrictions\n",
    ">* ssa\n",
    ">* uoa\n",
    ">* venues\n",
    ">\n",
    "> When sending requests to any of the basic endpoints, the examples above represent the full request bodies... no additional properties are needed.\n",
    "\n",
    "#### Filtered Requests\n",
    "> The ```/airspace/``` and ```/wx-forecast/``` category endpoints have additional required properties in the request body json, beyond those used to define the area of interest.\n",
    ">\n",
    "> * For **airspace** requests, you need to include the ```asptypes``` property. The value given must be list of one or more airspace types you wish to retrieve. Allowed values are \"CAS\", \"SUA\", \"MAA\", and \"MTR\". Example:\n",
    ">```\n",
    ">{\n",
    ">  \"longitude\": -88.2,\n",
    ">  \"latitude\": 44.6,\n",
    ">  \"distance\": 8000,\n",
    ">  \"asptypes\": [\"MAA\",\"MTR\"]\n",
    ">}\n",
    ">```\n",
    "> * For **wx-forecast** requests, you need to include the ```wxtypes``` and ```hours``` properties. The value given for wxtypes must be a list containing one or more weather elements. Allowed values are \"CIG\", \"DEWPT\", \"SKY\", \"TEMP\", \"VIS\", \"WINDDIR\", \"WINDGUST\", and \"WINDSPEED\". The value given for hours must be an integer between 1 and 24. This will be the number of hourly forecasts to return. For the current hour only, you would enter a value of 1. To also retrieve forecasts for each of the next n hours, enter n. Example:\n",
    ">```\n",
    ">{\n",
    ">  \"longitude\": -88.2,\n",
    ">  \"latitude\": 44.6,\n",
    ">  \"distance\": 5000,\n",
    ">  \"wxtypes\": [\"WINDDIR\",\"WINDGUST\",\"WINDSPEED\"]\n",
    ">  \"hours\": 4\n",
    ">}\n",
    ">```"
   ]
  },
  {
   "cell_type": "code",
   "execution_count": null,
   "id": "cc907118",
   "metadata": {},
   "outputs": [],
   "source": [
    "# Notice the spatial extent restrictions stated above for each query type. To avoid 422 errors when calling the API, you can\n",
    "# use the helper methods below to ensure your GeoJSON elements are valid and within extent limits before sending requests.\n",
    "\n",
    "def route_length_km(rte: dict) -> float:\n",
    "    geod = pyproj.Geod(ellps=\"WGS84\")\n",
    "    lons, lats = zip(*rte['coordinates'])\n",
    "    l = geod.line_length(list(lons), list(lats))\n",
    "    return l/1000.0  # convert to km\n",
    "\n",
    "def poly_area_km2(poly: dict) -> float:\n",
    "    geod = pyproj.Geod(ellps=\"WGS84\")\n",
    "    pc = shpgeo.shape(json.loads(json.dumps(poly)))\n",
    "    a = abs(geod.geometry_area_perimeter(pc)[0])\n",
    "    return a/1000000.0  # convert to km^2\n",
    "\n",
    "def is_valid_route(req_route: dict) -> bool:\n",
    "    # Is this a valid GeoJSON LineString?\n",
    "    if isinstance(gj.loads(json.dumps(req_route)), gj.geometry.LineString):\n",
    "        # Is it less than or equal to 50 km in length?\n",
    "        if route_length_km(req_route) > 50.0:\n",
    "            return False\n",
    "        return True\n",
    "    return False\n",
    "\n",
    "def is_valid_poly(req_polygon: dict) -> bool:\n",
    "    # Is this a valid GeoJSON Polygon?\n",
    "    if isinstance(gj.loads(json.dumps(req_polygon)), gj.geometry.Polygon):\n",
    "        # Is the enclosed area less than or equal to 1000 km^2?\n",
    "        if poly_area_km2(req_polygon) > 1000.0:\n",
    "            return False\n",
    "        return True\n",
    "    return False"
   ]
  },
  {
   "cell_type": "markdown",
   "id": "19791aaa",
   "metadata": {},
   "source": [
    "## Sending Requests\n",
    "\n",
    "We'll use the [Requests](https://requests.readthedocs.io/) library to make our POST requests. The parameters we'll need to include when creating the requests are:\n",
    "* ```url```: the endpoint url\n",
    "* ```headers```: dictionary of headers to send (we created it already in code cell [2])\n",
    "* ```json```: the json request body"
   ]
  },
  {
   "cell_type": "code",
   "execution_count": null,
   "id": "8ddec4c4",
   "metadata": {},
   "outputs": [],
   "source": [
    "# A distance-query for Special Security Areas. The ssa endpoint is \"basic\"\n",
    "\n",
    "dreq = {\n",
    "  \"longitude\": -97.362,\n",
    "  \"latitude\": 35.416,\n",
    "  \"distance\": 5000\n",
    "}\n",
    "\n",
    "ssa_resp = requests.post(get_url('ssa', 'distance'), headers = headers, json = dreq)"
   ]
  },
  {
   "cell_type": "markdown",
   "id": "d5ac7493",
   "metadata": {},
   "source": [
    "## Working with results\n",
    "\n",
    "```ssa_resp``` will contain a [Response](https://requests.readthedocs.io/en/latest/api/#requests.Response) object."
   ]
  },
  {
   "cell_type": "code",
   "execution_count": null,
   "id": "1fc65727",
   "metadata": {},
   "outputs": [],
   "source": [
    "# Check the status code of the response\n",
    "ssa_resp"
   ]
  },
  {
   "cell_type": "markdown",
   "id": "a79cb060",
   "metadata": {},
   "source": [
    "Status code of 200 means our results will be as described in the DFlight API specification, i.e. a json object containing a single item ```found```. The contents of ```found``` will be a GeoJSON FeatureCollection, with one Feature for each ssa found."
   ]
  },
  {
   "cell_type": "code",
   "execution_count": null,
   "id": "a9cd81fc",
   "metadata": {},
   "outputs": [],
   "source": [
    "# The json response body\n",
    "ssa_json = ssa_resp.json()\n",
    "ssa_json"
   ]
  },
  {
   "cell_type": "code",
   "execution_count": null,
   "id": "a667504f",
   "metadata": {},
   "outputs": [],
   "source": [
    "# The FeatureCollection containing ssa instances found\n",
    "ssa_found = ssa_json['found']\n",
    "\n",
    "# ssa_found is still a plain dict\n",
    "print(type(ssa_found))\n",
    "\n",
    "# In order to further work with the geometries you'll want to convert it to an actual GeoJSON FeatureCollection\n",
    "ssa_fc = gj.loads(gj.dumps(ssa_found))\n",
    "print(type(ssa_fc))"
   ]
  },
  {
   "cell_type": "code",
   "execution_count": null,
   "id": "dc44061e",
   "metadata": {},
   "outputs": [],
   "source": [
    "# How many features (ssa) are there?\n",
    "len(ssa_fc)"
   ]
  },
  {
   "cell_type": "code",
   "execution_count": null,
   "id": "98752654",
   "metadata": {},
   "outputs": [],
   "source": [
    "feature1 = ssa_fc[0]"
   ]
  },
  {
   "cell_type": "code",
   "execution_count": null,
   "id": "291c9183",
   "metadata": {},
   "outputs": [],
   "source": [
    "# What is the geometry type?\n",
    "type(feature1['geometry'])"
   ]
  },
  {
   "cell_type": "code",
   "execution_count": null,
   "id": "3a62d0b5",
   "metadata": {},
   "outputs": [],
   "source": [
    "# How big is it (in square km)?\n",
    "poly_area_km2(feature1['geometry'])"
   ]
  },
  {
   "cell_type": "code",
   "execution_count": null,
   "id": "f0cfe321",
   "metadata": {},
   "outputs": [],
   "source": [
    "# What properties are given?\n",
    "feature1['properties'].keys()"
   ]
  }
 ],
 "metadata": {
  "kernelspec": {
   "display_name": "Python 3 (ipykernel)",
   "language": "python",
   "name": "python3"
  },
  "language_info": {
   "codemirror_mode": {
    "name": "ipython",
    "version": 3
   },
   "file_extension": ".py",
   "mimetype": "text/x-python",
   "name": "python",
   "nbconvert_exporter": "python",
   "pygments_lexer": "ipython3",
   "version": "3.11.0"
  }
 },
 "nbformat": 4,
 "nbformat_minor": 5
}
